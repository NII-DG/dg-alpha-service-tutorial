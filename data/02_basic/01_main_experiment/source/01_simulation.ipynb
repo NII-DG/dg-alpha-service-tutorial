{
 "cells": [
  {
   "cell_type": "markdown",
   "id": "0d43d870-5d7f-4765-9b42-bf9b98695ff6",
   "metadata": {
    "tags": []
   },
   "source": [
    "# Purpose\n",
    "\n",
    "Arrange a script to calculate a Fourier modulus"
   ]
  },
  {
   "cell_type": "markdown",
   "id": "d164d5a9-1462-4d14-91fb-fcfc9743f682",
   "metadata": {},
   "source": [
    "## install"
   ]
  },
  {
   "cell_type": "code",
   "execution_count": 1,
   "id": "694495c1-e84e-415d-b6bf-67316e9d701d",
   "metadata": {},
   "outputs": [
    {
     "name": "stdout",
     "output_type": "stream",
     "text": [
      "Note: you may need to restart the kernel to use updated packages.\n"
     ]
    }
   ],
   "source": [
    "%pip install -q git+https://github.com/Surpris/BraggPy.git"
   ]
  },
  {
   "cell_type": "markdown",
   "id": "d6247074-cdcf-4d02-b7f0-8be00191ac1d",
   "metadata": {},
   "source": [
    "## setup modules"
   ]
  },
  {
   "cell_type": "code",
   "execution_count": 1,
   "id": "cfbe0e1d-d392-40f3-af38-fb0c1a4771a0",
   "metadata": {},
   "outputs": [],
   "source": [
    "import h5py\n",
    "import json\n",
    "import numpy as np\n",
    "import matplotlib.pyplot as plt\n",
    "from mpl_toolkits.mplot3d import Axes3D\n",
    "from matplotlib.colors import LogNorm\n",
    "import os\n",
    "import braggpy\n",
    "import time\n",
    "\n",
    "%matplotlib inline"
   ]
  },
  {
   "cell_type": "code",
   "execution_count": 2,
   "id": "fdcc9f6c-5ea0-43bd-88da-c304fff7adfd",
   "metadata": {},
   "outputs": [],
   "source": [
    "def load_input_parameter(fpath: str) -> dict:\n",
    "    with open(fpath, 'r') as ff:\n",
    "        return json.loads(ff.read())"
   ]
  },
  {
   "cell_type": "code",
   "execution_count": 3,
   "id": "883f00f9-0178-4d14-acd6-20771696ef20",
   "metadata": {},
   "outputs": [],
   "source": [
    "def generate_lattice_coordinates(parameters: dict) -> np.ndarray:\n",
    "    prev_number_of_atoms: int = 0\n",
    "    coors_origin: np.ndarray = None\n",
    "    coors_inside: np.ndarray = None\n",
    "    target = parameters.get('target')\n",
    "    for ind_max in range(10, 50):\n",
    "        coors_origin = braggpy.make_lattice_points(\n",
    "            target['unit_cell_length']['value'],\n",
    "            lattice_type=target['crystal_structure']['value'],\n",
    "            ind_min=-ind_max, ind_max=ind_max\n",
    "        )\n",
    "        coors_inside = braggpy.is_inside(\n",
    "            coors_origin,\n",
    "            target['crystal_characteristic_length']['value'],\n",
    "            target['crystal_shape']['value']\n",
    "        )\n",
    "        if prev_number_of_atoms == coors_inside.shape[0]:\n",
    "            break\n",
    "        prev_number_of_atoms = coors_inside.shape[0]\n",
    "    return coors_inside"
   ]
  },
  {
   "cell_type": "code",
   "execution_count": 4,
   "id": "c73964f6-cb7d-4417-bd61-6f7af2908883",
   "metadata": {},
   "outputs": [],
   "source": [
    "def generate_momentum(parameters: dict) -> dict:\n",
    "    reciprocal_lattice = parameters['momentum_space']\n",
    "    return braggpy.generate_momentum(\n",
    "        hv,\n",
    "        reciprocal_lattice['momentum_max']['value'],\n",
    "        reciprocal_lattice['momentum_step']['value'],\n",
    "    )"
   ]
  },
  {
   "cell_type": "code",
   "execution_count": 5,
   "id": "2828ecdf-42ec-453a-963a-f22b692d2ee7",
   "metadata": {},
   "outputs": [],
   "source": [
    "def calculate_euler_angle(parameters: dict, momentum_coors: dict) -> np.ndarray:\n",
    "    target = parameters['target']\n",
    "    euler = np.rad2deg(braggpy.calc_euler_hkl(\n",
    "        target['unit_cell_length']['value'],\n",
    "        momentum_coors['k0'],\n",
    "        *target['miller_index']['value']\n",
    "    ))\n",
    "    return euler"
   ]
  },
  {
   "cell_type": "code",
   "execution_count": 6,
   "id": "11ccaa76-706c-427e-bfaa-cf231ada7dcf",
   "metadata": {},
   "outputs": [],
   "source": [
    "def add_params(group, key, values):\n",
    "    if values.get('value'):\n",
    "        _ = group.create_dataset(key, data=values['value'])\n",
    "        return group\n",
    "    group_ = group.create_group(f'{key}')\n",
    "    for key_, values_ in values.items():\n",
    "        group_ = add_params(group_, key_, values_)\n",
    "    return group\n",
    "\n",
    "\n",
    "def save_results(fpath, parameters, euler, momentum_coors, fourier_modulus, coors):\n",
    "    with h5py.File(dstpath, 'w') as tree:\n",
    "        # add input parameters\n",
    "        tree = add_params(tree, 'input_parameters', parameters)\n",
    "\n",
    "        # add output\n",
    "        group = tree.create_group('outputs')\n",
    "        sub_group = group.create_group('target')\n",
    "        _ = sub_group.create_dataset('euler_angle', data=euler)\n",
    "\n",
    "        sub_group = group.create_group('momentum_space')\n",
    "        _ = sub_group.create_dataset('momentum_x', data=momentum_coors['qxx'])\n",
    "        _ = sub_group.create_dataset('momentum_y', data=momentum_coors['qyy'])\n",
    "        _ = sub_group.create_dataset('momentum_z', data=momentum_coors['qzz'])\n",
    "\n",
    "        sub_group = group.create_group('incident_xray_beam')\n",
    "        _ = sub_group.create_dataset('wavenumber', data=momentum_coors['k0'])\n",
    "\n",
    "        sub_group = group.create_group('main_outputs')\n",
    "        _ = sub_group.create_dataset('fourier_modulus', data=fourier_modulus)\n",
    "        _ = sub_group.create_dataset('coordinates_of_atoms', data=coors)"
   ]
  },
  {
   "cell_type": "markdown",
   "id": "67bbe642-5b48-4189-a1f3-c717cb9e5f14",
   "metadata": {},
   "source": [
    "## directory setting"
   ]
  },
  {
   "cell_type": "code",
   "execution_count": 10,
   "id": "88a98e28-20d2-4420-b57e-5a68cfbb4648",
   "metadata": {},
   "outputs": [],
   "source": [
    "outputdir = '../output_data/01_simulation'\n",
    "\n",
    "if not os.path.exists(outputdir):\n",
    "    os.makedirs(outputdir)"
   ]
  },
  {
   "cell_type": "markdown",
   "id": "39d98117-363b-42b9-a7b2-e3d987346620",
   "metadata": {
    "tags": []
   },
   "source": [
    "## calculation with `param.json`"
   ]
  },
  {
   "cell_type": "code",
   "execution_count": 14,
   "id": "03c59c7e-ede3-4fd6-af9c-578c1b48cacc",
   "metadata": {},
   "outputs": [
    {
     "name": "stdout",
     "output_type": "stream",
     "text": [
      "../output_data/01_simulation/fourier_modulus_R52.00A.h5 52.0 (10149, 3)\n",
      "elapsed time: 97.45 sec.\n",
      "../output_data/01_simulation/fourier_modulus_R46.80A.h5 46.800000000000004 (7419, 3)\n",
      "elapsed time: 168.61 sec.\n",
      "../output_data/01_simulation/fourier_modulus_R41.60A.h5 41.6 (5281, 3)\n",
      "elapsed time: 219.13 sec.\n",
      "../output_data/01_simulation/fourier_modulus_R36.40A.h5 36.400000000000006 (3511, 3)\n",
      "elapsed time: 252.39 sec.\n",
      "../output_data/01_simulation/fourier_modulus_R31.20A.h5 31.200000000000003 (2171, 3)\n",
      "elapsed time: 273.03 sec.\n",
      "../output_data/01_simulation/fourier_modulus_R26.00A.h5 26.000000000000007 (1253, 3)\n",
      "elapsed time: 284.67 sec.\n",
      "../output_data/01_simulation/fourier_modulus_R20.80A.h5 20.800000000000008 (675, 3)\n",
      "elapsed time: 291.05 sec.\n",
      "../output_data/01_simulation/fourier_modulus_R15.60A.h5 15.600000000000009 (249, 3)\n",
      "elapsed time: 293.41 sec.\n",
      "../output_data/01_simulation/fourier_modulus_R10.40A.h5 10.40000000000001 (79, 3)\n",
      "elapsed time: 294.16 sec.\n",
      "../output_data/01_simulation/fourier_modulus_R5.20A.h5 5.20000000000001 (13, 3)\n",
      "elapsed time: 294.32 sec.\n",
      "CPU times: user 4min 53s, sys: 169 ms, total: 4min 53s\n",
      "Wall time: 4min 54s\n"
     ]
    }
   ],
   "source": [
    "%%time\n",
    "\n",
    "inputpath = '../input_data/param.json'\n",
    "fname = 'fourier_modulus_R{0:.2f}A.h5'\n",
    "\n",
    "props = np.arange(1.0, 0.0, -0.1)\n",
    "\n",
    "# load parameters\n",
    "parameters: dict = load_input_parameter(inputpath)\n",
    "R0: float = parameters['target']['crystal_characteristic_length']['value'] * 1.0\n",
    "\n",
    "hv: float = None\n",
    "if parameters['incident_xray_beam'].get('photon_energy'):\n",
    "    hv = parameters['incident_xray_beam'].get('photon_energy')['value']\n",
    "else:\n",
    "    hv = 12.3849 / parameters['incident_xray_beam'].get('wavelength')['value']\n",
    "\n",
    "# generate momentum coordinates\n",
    "momentum_coors = generate_momentum(parameters)\n",
    "\n",
    "# main loop\n",
    "st = time.time()\n",
    "for p in props:\n",
    "    # update characteristic length\n",
    "    parameters['target']['crystal_characteristic_length']['value'] = R = R0 * p\n",
    "    dstpath = os.path.join(outputdir, fname.format(R))\n",
    "\n",
    "    # generate lattice coors\n",
    "    coors_inside = generate_lattice_coordinates(parameters)\n",
    "\n",
    "    # Euler rotation\n",
    "    euler = calculate_euler_angle(parameters, momentum_coors)\n",
    "    coors_euler = braggpy.euler_rotate(\n",
    "        coors_inside, euler, 1\n",
    "    )\n",
    "    print(dstpath, R, coors_euler.shape)\n",
    "    # continue\n",
    "\n",
    "    # calculate modulus\n",
    "    F = braggpy.calc_modulus(\n",
    "        coors_euler,\n",
    "        momentum_coors['qxx'], momentum_coors['qyy'], momentum_coors['qzz']\n",
    "    )\n",
    "\n",
    "    # save modulus\n",
    "    save_results(dstpath, parameters, euler, momentum_coors, F, coors_euler)\n",
    "    \n",
    "    print(f\"elapsed time: {time.time() - st:.2f} sec.\")"
   ]
  },
  {
   "cell_type": "markdown",
   "id": "9c0e7b1e-aa49-45a5-8c96-208c2c18f901",
   "metadata": {},
   "source": [
    "## calculation with `param_2.json`"
   ]
  },
  {
   "cell_type": "code",
   "execution_count": 15,
   "id": "84516a50-0f5c-45f9-83ee-9d1f1d31cc9c",
   "metadata": {},
   "outputs": [
    {
     "name": "stdout",
     "output_type": "stream",
     "text": [
      "../output_data/01_simulation/fourier_modulus_R112.00A.h5 112.0 (102417, 3)\n",
      "elapsed time: 1001.21 sec.\n",
      "../output_data/01_simulation/fourier_modulus_R100.80A.h5 100.8 (74605, 3)\n",
      "elapsed time: 1743.60 sec.\n",
      "../output_data/01_simulation/fourier_modulus_R89.60A.h5 89.60000000000001 (52661, 3)\n",
      "elapsed time: 2260.68 sec.\n",
      "../output_data/01_simulation/fourier_modulus_R78.40A.h5 78.4 (35241, 3)\n",
      "elapsed time: 2603.43 sec.\n",
      "../output_data/01_simulation/fourier_modulus_R67.20A.h5 67.20000000000002 (21913, 3)\n",
      "elapsed time: 2815.56 sec.\n",
      "../output_data/01_simulation/fourier_modulus_R56.00A.h5 56.000000000000014 (12695, 3)\n",
      "elapsed time: 2938.35 sec.\n",
      "CPU times: user 49min 3s, sys: 38.2 s, total: 49min 41s\n",
      "Wall time: 48min 58s\n"
     ]
    }
   ],
   "source": [
    "%%time\n",
    "\n",
    "inputpath = '../input_data/param_2.json'\n",
    "fname = 'fourier_modulus_R{0:.2f}A.h5'\n",
    "\n",
    "props = np.arange(1.0, 0.4, -0.1)\n",
    "\n",
    "# load parameters\n",
    "parameters: dict = load_input_parameter(inputpath)\n",
    "R0: float = parameters['target']['crystal_characteristic_length']['value'] * 1.0\n",
    "\n",
    "hv: float = None\n",
    "if parameters['incident_xray_beam'].get('photon_energy'):\n",
    "    hv = parameters['incident_xray_beam'].get('photon_energy')['value']\n",
    "else:\n",
    "    hv = 12.3849 / parameters['incident_xray_beam'].get('wavelength')['value']\n",
    "\n",
    "# generate momentum coordinates\n",
    "momentum_coors = generate_momentum(parameters)\n",
    "\n",
    "# main loop\n",
    "st = time.time()\n",
    "for p in props:\n",
    "    # update characteristic length\n",
    "    parameters['target']['crystal_characteristic_length']['value'] = R = R0 * p\n",
    "    dstpath = os.path.join(outputdir, fname.format(R))\n",
    "\n",
    "    # generate lattice coors\n",
    "    coors_inside = generate_lattice_coordinates(parameters)\n",
    "\n",
    "    # Euler rotation\n",
    "    euler = calculate_euler_angle(parameters, momentum_coors)\n",
    "    coors_euler = braggpy.euler_rotate(\n",
    "        coors_inside, euler, 1\n",
    "    )\n",
    "    print(dstpath, R, coors_euler.shape)\n",
    "    # continue\n",
    "\n",
    "    # calculate modulus\n",
    "    F = braggpy.calc_modulus(\n",
    "        coors_euler,\n",
    "        momentum_coors['qxx'], momentum_coors['qyy'], momentum_coors['qzz']\n",
    "    )\n",
    "\n",
    "    # save modulus\n",
    "    save_results(dstpath, parameters, euler, momentum_coors, F, coors_euler)\n",
    "    \n",
    "    print(f\"elapsed time: {time.time() - st:.2f} sec.\")"
   ]
  },
  {
   "cell_type": "code",
   "execution_count": 16,
   "id": "55c0c4a0-f19b-4d1f-ba79-54504fcf3004",
   "metadata": {},
   "outputs": [
    {
     "name": "stdout",
     "output_type": "stream",
     "text": [
      "../output_data/01_simulation/fourier_modulus_R41.60A.h5\n",
      "../output_data/01_simulation/fourier_modulus_R89.60A.h5\n",
      "../output_data/01_simulation/fourier_modulus_R78.40A.h5\n",
      "../output_data/01_simulation/fourier_modulus_R10.40A.h5\n",
      "../output_data/01_simulation/fourier_modulus_R31.20A.h5\n",
      "../output_data/01_simulation/fourier_modulus_R56.00A.h5\n",
      "../output_data/01_simulation/fourier_modulus_R5.20A.h5\n",
      "../output_data/01_simulation/fourier_modulus_R46.80A.h5\n",
      "../output_data/01_simulation/fourier_modulus_R52.00A.h5\n",
      "../output_data/01_simulation/fourier_modulus_R67.20A.h5\n",
      "../output_data/01_simulation/fourier_modulus_R112.00A.h5\n",
      "../output_data/01_simulation/fourier_modulus_R26.00A.h5\n",
      "../output_data/01_simulation/fourier_modulus_R36.40A.h5\n",
      "../output_data/01_simulation/fourier_modulus_R20.80A.h5\n",
      "../output_data/01_simulation/fourier_modulus_R15.60A.h5\n",
      "../output_data/01_simulation/fourier_modulus_R100.80A.h5\n"
     ]
    }
   ],
   "source": [
    "for fname_ in os.listdir(outputdir):\n",
    "    print(os.path.join(outputdir, fname_))"
   ]
  },
  {
   "cell_type": "code",
   "execution_count": null,
   "id": "c831ffef-4d02-440d-a19d-1051cf412456",
   "metadata": {},
   "outputs": [],
   "source": []
  }
 ],
 "metadata": {
  "kernelspec": {
   "display_name": "Python 3 (ipykernel)",
   "language": "python",
   "name": "python3"
  },
  "language_info": {
   "codemirror_mode": {
    "name": "ipython",
    "version": 3
   },
   "file_extension": ".py",
   "mimetype": "text/x-python",
   "name": "python",
   "nbconvert_exporter": "python",
   "pygments_lexer": "ipython3",
   "version": "3.9.10"
  }
 },
 "nbformat": 4,
 "nbformat_minor": 5
}
