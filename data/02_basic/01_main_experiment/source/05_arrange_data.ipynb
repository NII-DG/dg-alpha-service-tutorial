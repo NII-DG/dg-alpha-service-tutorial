{
 "cells": [
  {
   "cell_type": "markdown",
   "id": "cc28bab2-7234-4324-99c2-2ee3bdde4a9b",
   "metadata": {
    "tags": []
   },
   "source": [
    "# Purpose\n",
    "arrange data for analysis. Datasets for each crystal condition have the following HDF5 formats:\n",
    "\n",
    "```\n",
    "/root\n",
    "    /run_info\n",
    "        /number_of_shots\n",
    "    /data\n",
    "        /detector_images\n",
    "    /instruments_info\n",
    "        /timing_monitor\n",
    "            /delay_time\n",
    "        /xray_source\n",
    "            /source_type = virtual_XFEL\n",
    "            /source_name = none\n",
    "            /xray_wavelength\n",
    "        /xray_imaging_detector\n",
    "            /detector_type = virtual_detector\n",
    "            /detector_name = none\n",
    "            /momentum_space\n",
    "                /momentum_x\n",
    "                /momentum_y\n",
    "    /sample_info\n",
    "        /sample_name = xenon_cluster\n",
    "        /sample_type = nanoscale_crystal\n",
    "```"
   ]
  },
  {
   "cell_type": "markdown",
   "id": "bb11a106-235b-4a6f-bf62-28447500a45f",
   "metadata": {},
   "source": [
    "## setup modules"
   ]
  },
  {
   "cell_type": "code",
   "execution_count": 1,
   "id": "eb0209ba-ce01-471e-8a4a-473c7ecf894d",
   "metadata": {},
   "outputs": [],
   "source": [
    "import copy\n",
    "import glob\n",
    "import h5py\n",
    "import json\n",
    "import numpy as np\n",
    "import matplotlib.pyplot as plt\n",
    "from mpl_toolkits.mplot3d import Axes3D\n",
    "from matplotlib.colors import LogNorm\n",
    "import scipy.interpolate as interp\n",
    "import os\n",
    "import time\n",
    "from typing import Tuple, Union, Dict\n",
    "\n",
    "%matplotlib inline"
   ]
  },
  {
   "cell_type": "markdown",
   "id": "3b206773-47ce-4b78-bbbc-cbca3fd2ab67",
   "metadata": {},
   "source": [
    "## functions"
   ]
  },
  {
   "cell_type": "code",
   "execution_count": 2,
   "id": "dce96e71-ef4c-47fc-b313-21abb97de72c",
   "metadata": {},
   "outputs": [],
   "source": [
    "def print_h5_tree(val, pre=''):\n",
    "    if isinstance(val, h5py._hl.files.File):\n",
    "        print(val.filename)\n",
    "\n",
    "    items = len(val)\n",
    "    for key, val in val.items():\n",
    "        items -= 1\n",
    "        if items == 0:\n",
    "            # the last item\n",
    "            if isinstance(val, h5py._hl.group.Group):\n",
    "                print(pre + '└── ' + key)\n",
    "                print_h5_tree(val, pre+'    ')\n",
    "            else:\n",
    "                print(pre + '└── ' + key)\n",
    "        else:\n",
    "            if isinstance(val, h5py._hl.group.Group):\n",
    "                print(pre + '├── ' + key)\n",
    "                print_h5_tree(val, pre+'│   ')\n",
    "            else:\n",
    "                print(pre + '├── ' + key)\n",
    "\n",
    "\n",
    "def print_h5_tree_from_path(fpath: str):\n",
    "    with h5py.File(fpath, \"r\") as tree:\n",
    "        print_h5_tree(tree)"
   ]
  },
  {
   "cell_type": "code",
   "execution_count": 3,
   "id": "6825c221-36e4-4d23-be4c-93595029ffc0",
   "metadata": {},
   "outputs": [],
   "source": [
    "def add_params(group, key, values):\n",
    "    if values.get('value') is not None:\n",
    "        _ = group.create_dataset(key, data=values['value'])\n",
    "        return group\n",
    "    group_ = group.create_group(f'{key}')\n",
    "    for key_, values_ in values.items():\n",
    "        group_ = add_params(group_, key_, values_)\n",
    "    return group\n",
    "\n",
    "\n",
    "def output(dstpath: str, output_dict: dict):\n",
    "    with h5py.File(dstpath, 'w') as tree:\n",
    "        for key in output_dict.keys():\n",
    "            tree = add_params(tree, key, output_dict[key])"
   ]
  },
  {
   "cell_type": "code",
   "execution_count": 4,
   "id": "d643a951-2518-45e9-a0c3-f41a77f98fdc",
   "metadata": {},
   "outputs": [],
   "source": [
    "def update_dict_if_key_not_exist(\n",
    "    dict_old: dict, dict_new: dict,\n",
    "    overwrite_if_none: bool = False\n",
    ") -> dict:\n",
    "    if not isinstance(dict_new, dict):\n",
    "        return dict_old\n",
    "    for key in dict_new.keys():\n",
    "        if key not in dict_old.keys():\n",
    "            dict_old[key] = dict_new[key]\n",
    "        if dict_old[key] is None and overwrite_if_none:\n",
    "            dict_old[key] = dict_new[key]\n",
    "        else:\n",
    "            dict_old[key] = update_dict_if_key_not_exist(\n",
    "                dict_old[key], dict_new[key]\n",
    "            )\n",
    "    return dict_old"
   ]
  },
  {
   "cell_type": "code",
   "execution_count": 17,
   "id": "60bb3e48-6c20-4e2a-bf4c-ece3e6895e36",
   "metadata": {},
   "outputs": [],
   "source": [
    "def extract_xray_condition(tree):\n",
    "    dst_ = {\n",
    "        'source_type': {\n",
    "            'value': 'virtual_XFEL',\n",
    "            'unit': 'none',\n",
    "            'type': 'str'\n",
    "        },\n",
    "        'source_name': {\n",
    "            'value': 'none',\n",
    "            'unit': 'none',\n",
    "            'type': 'str'\n",
    "        },\n",
    "        'wavelength': {\n",
    "            'value': tree['incident_xray_beam']['wavelength'][()],\n",
    "            'unit': 'angstrom',\n",
    "            'type': 'float'\n",
    "        }\n",
    "    }\n",
    "    return {'xray_source': dst_}\n",
    "\n",
    "\n",
    "def extract_detector_condition(tree):\n",
    "    dst_ = {\n",
    "        'detector_type': {\n",
    "            'value': 'virtual_detector',\n",
    "            'unit': 'none',\n",
    "            'type': 'str'\n",
    "        },\n",
    "        'detector_name': {\n",
    "            'value': 'none',\n",
    "            'unit': 'none',\n",
    "            'type': 'str'\n",
    "        },\n",
    "        'momentum_space': {\n",
    "            'momentum_x': {\n",
    "                'value': tree['momentum_space']['momentum_x'][()],\n",
    "                'unit': 'none',\n",
    "                'type': 'numpy.ndarray(numpy.float64)'\n",
    "            },\n",
    "            'momentum_y': {\n",
    "                'value': tree['momentum_space']['momentum_y'][()],\n",
    "                'unit': '1/angstrom',\n",
    "                'type': 'numpy.ndarray(numpy.float64)'\n",
    "            }\n",
    "        }\n",
    "    }\n",
    "    return {'xray_imaging_detector': dst_}\n",
    "\n",
    "\n",
    "def extract_sample_condition(tree):\n",
    "    dst_ = {\n",
    "        'sample_name': {\n",
    "            'value': 'xenon_cluster',\n",
    "            'unit': 'none',\n",
    "            'type': 'str'\n",
    "        },\n",
    "        'sample_type': {\n",
    "            'value': 'nanoscale_crystal',\n",
    "            'unit': 'none',\n",
    "            'type': 'str'\n",
    "        }\n",
    "    }\n",
    "    return {'sample_info': dst_}\n",
    "\n",
    "\n",
    "def extract_raw_simulation_condition(fpath: str, dst: dict = None) -> dict:\n",
    "    if dst is None:\n",
    "        dst = {\n",
    "            'run_info': {},\n",
    "            'data': {},\n",
    "            'instruments_info': {},\n",
    "            'sample_info': {},\n",
    "        }\n",
    "\n",
    "    with h5py.File(fpath, \"r\") as tree:\n",
    "        dst_ = extract_xray_condition(tree['input_parameters'])\n",
    "        dst['instruments_info'] = update_dict_if_key_not_exist(\n",
    "            dst['instruments_info'], dst_\n",
    "        )\n",
    "\n",
    "        dst_ = extract_detector_condition(tree['outputs'])\n",
    "        dst['instruments_info'] = update_dict_if_key_not_exist(\n",
    "            dst['instruments_info'], dst_\n",
    "        )\n",
    "\n",
    "        dst_ = extract_sample_condition(tree['input_parameters'])\n",
    "        dst = update_dict_if_key_not_exist(\n",
    "            dst, dst_\n",
    "        )\n",
    "    \n",
    "    return dst"
   ]
  },
  {
   "cell_type": "code",
   "execution_count": 29,
   "id": "c14dff5a-9aa5-4bcd-8a2d-b5aa1e82251a",
   "metadata": {},
   "outputs": [],
   "source": [
    "def extract_experiment_condition(tree):\n",
    "    dst_ = {\n",
    "        'number_of_shots': {\n",
    "            'value': tree['image']['number_of_images'][()],\n",
    "            'unit': 'none',\n",
    "            'type': 'int'\n",
    "        }\n",
    "    }\n",
    "    return {'run_info': dst_}\n",
    "\n",
    "\n",
    "def extract_experimental_results(tree):\n",
    "    dst_ = {\n",
    "        'detector_images': {\n",
    "            'value': tree['main_outputs']['images'][()],\n",
    "            'unit': 'photons',\n",
    "            'type': 'numpy.ndarray(numpy.float64)'\n",
    "        }\n",
    "    }\n",
    "    return {'data': dst_}\n",
    "\n",
    "\n",
    "def extract_timing_monitor_results(tree):\n",
    "    dst_ = {\n",
    "        'delay_time': {\n",
    "            'value': tree['timing_monitor']['delay_time'][()],\n",
    "            'unit': 'femtosecond',\n",
    "            'type': 'float'\n",
    "        }\n",
    "    }\n",
    "    return { 'timing_monitor': dst_ }\n",
    "\n",
    "\n",
    "def extract_experiment_cond_and_results(fpath: str, fpath_delay: str, dst: dict = None) -> dict:\n",
    "    if dst is None:\n",
    "        dst = {\n",
    "            'run_info': {},\n",
    "            'data': {},\n",
    "            'instruments_info': {},\n",
    "            'sample_info': {},\n",
    "        }\n",
    "\n",
    "    with h5py.File(fpath, \"r\") as tree:\n",
    "        dst_ = extract_experiment_condition(tree['input_parameters'])\n",
    "        dst = update_dict_if_key_not_exist(dst, dst_)\n",
    "        dst_ = extract_experimental_results(tree['outputs'])\n",
    "        dst = update_dict_if_key_not_exist(dst, dst_)\n",
    "    \n",
    "    with h5py.File(fpath_delay, \"r\") as tree:\n",
    "        dst_ = extract_timing_monitor_results(tree)\n",
    "        dst['instruments_info'] = update_dict_if_key_not_exist(dst['instruments_info'], dst_)\n",
    "        \n",
    "    return dst"
   ]
  },
  {
   "cell_type": "markdown",
   "id": "6c6cfc14-7505-4651-932b-365bd14ec4a0",
   "metadata": {},
   "source": [
    "## paths"
   ]
  },
  {
   "cell_type": "code",
   "execution_count": 11,
   "id": "6991d6f3-7c63-4f59-8276-7fbbbcbce21f",
   "metadata": {},
   "outputs": [],
   "source": [
    "# conditions to generate raw Bragg spots\n",
    "srcdir = \"../output_data/01_simulation/\"\n",
    "srclist = sorted(glob.glob(os.path.join(srcdir, \"*.h5\")))\n",
    "\n",
    "# \"experimental\" results\n",
    "expdir = \"../output_data/03_calculate_exp_data/\"\n",
    "expfname = 'images_R{0:.2f}A_{1}shots.h5'\n",
    "\n",
    "# delay time\n",
    "delaydir = \"../output_data/04_simulate_delay_time/\"\n",
    "delayfname = 'delay_time_R{0:.2f}A.h5'\n",
    "\n",
    "# output\n",
    "outputdir = \"../output_data/05_arrange_data\"\n",
    "fname_fmt = 'exp_results_R{0:.2f}A.h5'\n",
    "if not os.path.exists(outputdir):\n",
    "    os.makedirs(outputdir)"
   ]
  },
  {
   "cell_type": "markdown",
   "id": "4660076a-8751-42e2-98f3-4f3c0d186f38",
   "metadata": {},
   "source": [
    "## get radii"
   ]
  },
  {
   "cell_type": "code",
   "execution_count": 12,
   "id": "36f7f85e-6c48-4ce4-9194-ff838c668d3b",
   "metadata": {},
   "outputs": [],
   "source": [
    "radii = []\n",
    "for fpath in srclist:\n",
    "    with h5py.File(fpath, \"r\") as tree:\n",
    "        radii.append(tree['input_parameters']['target']['crystal_characteristic_length'][()])\n",
    "\n",
    "radii = np.array(radii)"
   ]
  },
  {
   "cell_type": "markdown",
   "id": "0b81624c-add2-4515-975b-4132d54d9ae3",
   "metadata": {},
   "source": [
    "## test to extract information"
   ]
  },
  {
   "cell_type": "code",
   "execution_count": 30,
   "id": "9188a00d-c6de-4f17-b627-5ef17bd00188",
   "metadata": {},
   "outputs": [],
   "source": [
    "index = 2\n",
    "\n",
    "exppath = sorted(glob.glob(\n",
    "    os.path.join(expdir, 'images_R{0:.2f}*.h5'.format(radii[index]))\n",
    "))[0]\n",
    "delaypath = sorted(glob.glob(\n",
    "    os.path.join(delaydir, 'delay_time_R{0:.2f}*.h5'.format(radii[index]))\n",
    "))[0]\n",
    "dst = extract_raw_simulation_condition(srclist[index])\n",
    "dst = extract_experiment_cond_and_results(exppath, delaypath, dst)"
   ]
  },
  {
   "cell_type": "code",
   "execution_count": 31,
   "id": "983fa8f2-9b0e-4145-8d28-6c4dfc1a5ac2",
   "metadata": {},
   "outputs": [
    {
     "data": {
      "text/plain": [
       "<matplotlib.colorbar.Colorbar at 0x7f86d5c65a30>"
      ]
     },
     "execution_count": 31,
     "metadata": {},
     "output_type": "execute_result"
    },
    {
     "data": {
      "image/png": "[encoded data removed]",
      "text/plain": [
       "<Figure size 432x288 with 2 Axes>"
      ]
     },
     "metadata": {
      "needs_background": "light"
     },
     "output_type": "display_data"
    }
   ],
   "source": [
    "plt.imshow(dst['data']['detector_images']['value'].sum(axis=0))\n",
    "plt.colorbar()"
   ]
  },
  {
   "cell_type": "markdown",
   "id": "64f1935f-e32a-4c25-9f6d-4cf425721202",
   "metadata": {},
   "source": [
    "# main"
   ]
  },
  {
   "cell_type": "code",
   "execution_count": 32,
   "id": "536bccdd-3178-496a-b72c-f8af91d28fee",
   "metadata": {},
   "outputs": [
    {
     "name": "stdout",
     "output_type": "stream",
     "text": [
      "CPU times: user 209 ms, sys: 6.7 s, total: 6.91 s\n",
      "Wall time: 11.2 s\n"
     ]
    }
   ],
   "source": [
    "%%time\n",
    "\n",
    "for ii, srcpath in enumerate(srclist):\n",
    "    radius_ = radii[ii]\n",
    "    exppath = sorted(glob.glob(\n",
    "        os.path.join(expdir, 'images_R{0:.2f}*.h5'.format(radius_))\n",
    "    ))[0]\n",
    "    delaypath = sorted(glob.glob(\n",
    "        os.path.join(delaydir, 'delay_time_R{0:.2f}*.h5'.format(radii[index]))\n",
    "    ))[0]\n",
    "    \n",
    "    # extract\n",
    "    dst = extract_raw_simulation_condition(srcpath)\n",
    "    dst = extract_experiment_cond_and_results(exppath, delaypath, dst)\n",
    "    \n",
    "    # output\n",
    "    dstpath = os.path.join(outputdir, fname_fmt.format(radius_))\n",
    "    output(dstpath, dst)"
   ]
  },
  {
   "cell_type": "markdown",
   "id": "32a4209a-0ff9-4bee-b0e6-a085e7eda268",
   "metadata": {},
   "source": [
    "## check the outputs"
   ]
  },
  {
   "cell_type": "code",
   "execution_count": 33,
   "id": "00f58fee-ffde-4b3d-9002-214e7fc53338",
   "metadata": {},
   "outputs": [
    {
     "name": "stdout",
     "output_type": "stream",
     "text": [
      "../output_data/05_arrange_data/exp_results_R10.40A.h5\n",
      "├── data\n",
      "│   └── detector_images\n",
      "├── instruments_info\n",
      "│   ├── timing_monitor\n",
      "│   │   └── delay_time\n",
      "│   ├── xray_imaging_detector\n",
      "│   │   ├── detector_name\n",
      "│   │   ├── detector_type\n",
      "│   │   └── momentum_space\n",
      "│   │       ├── momentum_x\n",
      "│   │       └── momentum_y\n",
      "│   └── xray_source\n",
      "│       ├── source_name\n",
      "│       ├── source_type\n",
      "│       └── wavelength\n",
      "├── run_info\n",
      "│   └── number_of_shots\n",
      "└── sample_info\n",
      "    ├── sample_name\n",
      "    └── sample_type\n"
     ]
    }
   ],
   "source": [
    "outputlist = sorted(glob.glob(os.path.join(outputdir, \"*.h5\")))\n",
    "\n",
    "print_h5_tree_from_path(outputlist[0])"
   ]
  },
  {
   "cell_type": "code",
   "execution_count": 34,
   "id": "7c8e6ada-d919-46c5-b44c-fe8ef22340f9",
   "metadata": {},
   "outputs": [],
   "source": [
    "index = 2\n",
    "\n",
    "image = None\n",
    "with h5py.File(outputlist[index], \"r\") as tree:\n",
    "    image = tree['data']['detector_images'][()].sum(axis=0)"
   ]
  },
  {
   "cell_type": "code",
   "execution_count": 35,
   "id": "2f1388b1-d7e2-4a02-b761-8669c526ca07",
   "metadata": {},
   "outputs": [],
   "source": [
    "def get_qrange(fpath: str) -> Tuple[Union[Dict[str, Union[Tuple[float], float]], float]]:\n",
    "    qranges = {\n",
    "        'x': None,  # (min, max)\n",
    "        'y': None,  # (min, max)\n",
    "    }\n",
    "    dqs = {\n",
    "        'x': None,\n",
    "        'y': None,\n",
    "    }\n",
    "    with h5py.File(fpath, \"r\") as tree:\n",
    "        momentum_space = tree['instruments_info']['xray_imaging_detector']['momentum_space']\n",
    "        qranges['x'] = (\n",
    "            momentum_space['momentum_x'][()].min(),\n",
    "            momentum_space['momentum_x'][()].max()\n",
    "        )\n",
    "        qranges['y'] = (\n",
    "            momentum_space['momentum_y'][()].min(),\n",
    "            momentum_space['momentum_y'][()].max()\n",
    "        ) \n",
    "\n",
    "        dqs['x'] = np.diff(sorted(np.unique(momentum_space['momentum_x'][()])))[0]\n",
    "        dqs['y'] = np.diff(sorted(np.unique(momentum_space['momentum_y'][()])))[0]\n",
    "\n",
    "    return qranges, dqs"
   ]
  },
  {
   "cell_type": "code",
   "execution_count": 36,
   "id": "9f068289-8e64-42cf-8e7a-0e551e593a20",
   "metadata": {},
   "outputs": [],
   "source": [
    "qranges, dqs = get_qrange(outputlist[index])"
   ]
  },
  {
   "cell_type": "code",
   "execution_count": 37,
   "id": "e276872e-baa9-4089-b3ac-32f20ed187cf",
   "metadata": {},
   "outputs": [
    {
     "data": {
      "image/png": "[encoded data removed]",
      "text/plain": [
       "<Figure size 432x288 with 2 Axes>"
      ]
     },
     "metadata": {
      "needs_background": "light"
     },
     "output_type": "display_data"
    }
   ],
   "source": [
    "extent = [\n",
    "    qranges['x'][0] - dqs['x'] / 2.0, qranges['x'][1] + dqs['x'] / 2.0,\n",
    "    qranges['y'][0] - dqs['y'] / 2.0, qranges['y'][1] + dqs['y'] / 2.0\n",
    "]  # (left, right, bottom, top)\n",
    "\n",
    "plt.subplot(111)\n",
    "plt.imshow(\n",
    "    image, origin='lower', extent=extent,\n",
    "    norm=LogNorm(vmin=image.max() / 1e2, vmax=image.max())\n",
    ")\n",
    "\n",
    "plt.xlabel('$q_x (1/\\AA$)')\n",
    "plt.ylabel('$q_y (1/\\AA$)')\n",
    "\n",
    "# plt.xlim(pos_spot_qranges['x'][0], pos_spot_qranges['x'][-1])\n",
    "# plt.ylim(pos_spot_qranges['y'][0], pos_spot_qranges['y'][-1])\n",
    "plt.colorbar()\n",
    "\n",
    "plt.tight_layout()"
   ]
  },
  {
   "cell_type": "code",
   "execution_count": null,
   "id": "837213aa-1e27-4e21-956f-77d2a76c4d8b",
   "metadata": {},
   "outputs": [],
   "source": []
  }
 ],
 "metadata": {
  "kernelspec": {
   "display_name": "Python 3 (ipykernel)",
   "language": "python",
   "name": "python3"
  },
  "language_info": {
   "codemirror_mode": {
    "name": "ipython",
    "version": 3
   },
   "file_extension": ".py",
   "mimetype": "text/x-python",
   "name": "python",
   "nbconvert_exporter": "python",
   "pygments_lexer": "ipython3",
   "version": "3.9.10"
  }
 },
 "nbformat": 4,
 "nbformat_minor": 5
}
